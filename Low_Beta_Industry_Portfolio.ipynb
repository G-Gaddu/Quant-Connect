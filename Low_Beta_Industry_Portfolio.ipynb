{
  "nbformat": 4,
  "nbformat_minor": 0,
  "metadata": {
    "colab": {
      "provenance": [],
      "authorship_tag": "ABX9TyPYHmG7E8RtSzbUG1UcuZBl",
      "include_colab_link": true
    },
    "kernelspec": {
      "name": "python3",
      "display_name": "Python 3"
    },
    "language_info": {
      "name": "python"
    }
  },
  "cells": [
    {
      "cell_type": "markdown",
      "metadata": {
        "id": "view-in-github",
        "colab_type": "text"
      },
      "source": [
        "<a href=\"https://colab.research.google.com/github/G-Gaddu/Quant-Connect/blob/main/Low_Beta_Industry_Portfolio.ipynb\" target=\"_parent\"><img src=\"https://colab.research.google.com/assets/colab-badge.svg\" alt=\"Open In Colab\"/></a>"
      ]
    },
    {
      "cell_type": "code",
      "execution_count": null,
      "metadata": {
        "id": "HYK_v1e-vH_-"
      },
      "outputs": [],
      "source": [
        "# Import the required packages\n",
        "import itertools\n",
        "from AlgorithmImports import *\n",
        "\n",
        "class LowBetaPortfolio(QCAlgorithm):\n",
        "\n",
        "    def initialize(self):\n",
        "        self.set_start_date(2015, 1, 1) # Define the start date\n",
        "        self.set_end_date(2025,1,1) # Define the end date\n",
        "        self.set_cash(\"USD\", 10000000) # Set the cash allocated to the strategy\n",
        "        self.settings.minimum_order_margin_portfolio_percentage = 0.005 # Define the minimum order margin percentage as 0.5%\n",
        "        self.settings.automatic_indicator_warm_up = True # Provide a warm up period for the algorithm\n",
        "        self.set_security_initializer(BrokerageModelSecurityInitializer(self.brokerage_model, FuncSecuritySeeder(self.get_last_known_prices))) # Get the last known prices using the Brokerage model\n",
        "        self._assets_per_industry = self.get_parameter('assets_per_industry', 30) # Define the number of stocks that will be selected from each industry, in this case it will be 30\n",
        "        self._beta_period = self.get_parameter('beta_period', 90) # Define the period to estimate our betas over, in this case it will be 90 days\n",
        "        self._spy = self.add_equity('SPY', Resolution.DAILY) # Define the index (the S&P 500) from which we will use for our strategy\n",
        "        self.universe_settings.resolution = Resolution.DAILY # Set the resolution period to daily\n",
        "        self.universe_settings.schedule.on(self.date_rules.month_start(self._spy.symbol))  # Carry out the selection process at the start of each month and form the portfolio\n",
        "        self.add_universe(self.stock_selection)\n",
        "        self.schedule.on(self.date_rules.month_start(self._spy.symbol, 2), self.time_rules.midnight, self.rebalance_portfolio) # Rebalance the portfolio at midnight at the end of each month\n",
        "\n",
        "    def rebalance_portfolio(self):\n",
        "        if self._targets:\n",
        "            # Rebalance the portfolio.\n",
        "            self.set_holdings(self._targets)\n",
        "            self._targets = []\n",
        "\n",
        "    def beta(self, tickers):\n",
        "        rets = self.history([self._spy.symbol] + tickers, self._beta_period, Resolution.DAILY, fill_forward=False).close.unstack(0).dropna(axis=1).pct_change().dropna()\n",
        "        symbols = [s for s in tickers if s in rets.columns]\n",
        "        df_reg = rets[[self._spy.symbol] + symbols]\n",
        "        # The dependent variable is the market return\n",
        "        x = df_reg.values[:, [0]]\n",
        "        # Concatenate a column of ones to act for the intercept\n",
        "        x = np.concatenate([np.ones_like(x), x], axis=1)\n",
        "        # Determine the betas\n",
        "        betas = np.linalg.pinv(x.T.dot(x)).dot(x.T).dot(df_reg.values[:, 1:])\n",
        "        return pd.Series(betas[1], df_reg.columns[1:], name='Beta')\n",
        "\n",
        "    def stock_selection(self, stocks):\n",
        "        # From each industry group select the most liquid stocks\n",
        "        sorted_stocks = sorted([x for x in stocks if x.asset_classification.morningstar_industry_group_code], key=lambda x: (x.asset_classification.morningstar_industry_group_code, x.dollar_volume))\n",
        "        selected_stocks = []\n",
        "        for _, fundamentals_by_group in itertools.groupby(sorted_stocks, lambda x: x.asset_classification.morningstar_industry_group_code):\n",
        "            selected_stocks.extend(list(fundamentals_by_group)[-self._assets_per_industry:])\n",
        "        # Determine the absolute beta for each stock\n",
        "        self.beta_by_symbol = self.beta([x.symbol for x in selected_stocks]).abs()\n",
        "        # Determine the median beta\n",
        "        med_beta = np.median(self.beta_by_symbol.values)\n",
        "        # For each industry select stocks in which the beta is less than the median for the group\n",
        "        allocation_by_industry = {}\n",
        "        tickers = []\n",
        "        for industry_ticker, industry_stocks in itertools.groupby(selected_stocks, lambda x: x.asset_classification.morningstar_industry_group_code):\n",
        "            # Get the beta of each asset in the industry.\n",
        "            industry_beta_by_symbol = self.beta_by_symbol[[x.symbol for x in industry_stocks if x.symbol in self.beta_by_symbol]]\n",
        "            # Get the betas for stocks that are below the median\n",
        "            low_betas = industry_beta_by_symbol[industry_beta_by_symbol < med_beta]\n",
        "            if low_betas.empty:\n",
        "                continue\n",
        "            tickers.extend(list(low_betas.index))\n",
        "            # Create weights for the assets in this industry (Beta-weighted weights).\n",
        "            beta_ranks = low_betas.sort_values().rank(method='first', ascending=False)\n",
        "            allocation_by_industry[industry_ticker] = beta_ranks / beta_ranks.sum()\n",
        "\n",
        "        # Create the portfolio targets. Give equal weight to each industry. Liquidate assets we no longer want.\n",
        "        self._targets = [PortfolioTarget(symbol, 0) for symbol, holding in self.portfolio.items() if holding.invested and symbol not in tickers]\n",
        "        for industry_stocks in allocation_by_industry.values():\n",
        "            self._targets.extend([PortfolioTarget(symbol, weight/len(allocation_by_industry)) for symbol, weight in industry_stocks.items()])\n",
        "        return tickers\n",
        ""
      ]
    }
  ]
}