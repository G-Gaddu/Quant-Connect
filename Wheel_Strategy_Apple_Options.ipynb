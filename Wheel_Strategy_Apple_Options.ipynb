{
  "nbformat": 4,
  "nbformat_minor": 0,
  "metadata": {
    "colab": {
      "provenance": [],
      "authorship_tag": "ABX9TyPFDufnL+GllML2gHT8Da9m",
      "include_colab_link": true
    },
    "kernelspec": {
      "name": "python3",
      "display_name": "Python 3"
    },
    "language_info": {
      "name": "python"
    }
  },
  "cells": [
    {
      "cell_type": "markdown",
      "metadata": {
        "id": "view-in-github",
        "colab_type": "text"
      },
      "source": [
        "<a href=\"https://colab.research.google.com/github/G-Gaddu/Quant-Connect/blob/main/Wheel_Strategy_Apple_Options.ipynb\" target=\"_parent\"><img src=\"https://colab.research.google.com/assets/colab-badge.svg\" alt=\"Open In Colab\"/></a>"
      ]
    },
    {
      "cell_type": "code",
      "execution_count": null,
      "metadata": {
        "id": "Y-cwGXfW4R4d"
      },
      "outputs": [],
      "source": [
        "# Import the required packages\n",
        "from AlgorithmImports import *\n",
        "\n",
        "class OptionWheelStrategy(QCAlgorithm):\n",
        "    # Initialise the class\n",
        "    def initialize(self):\n",
        "        self.set_start_date(2022, 1, 1) # Set the start date\n",
        "        self.set_end_date(2025, 1, 1) # Set the end date\n",
        "        self.set_cash(\"USD\", 1000000) # Set the strategy cash\n",
        "        self.set_security_initializer(BrokerageModelSecurityInitializer(self.brokerage_model, FuncSecuritySeeder(self.get_last_known_prices))) # Define our brokerage model\n",
        "        self._asset = self.add_equity(\"AAPL\", data_normalization_mode=DataNormalizationMode.Raw) # Define the underlying asset which in this case is Apple stock\n",
        "        self._otm_thresh = 0.1 # Set the out of the money threshold to be 10%\n",
        "\n",
        "    def on_data(self, data):\n",
        "        # First check for an existing position in the underlying asset\n",
        "        if [self._asset.symbol] == [symbol for symbol, holding in self.portfolio.items() if holding.invested]:\n",
        "            # If so then select an out of the money call and short it\n",
        "            ticker = self._get_contracts(OptionRight.CALL, self._asset.price * (1+self._otm_thresh))\n",
        "            self.market_order(ticker, -self._asset.holdings.quantity / 100)\n",
        "\n",
        "        # Otherwise if the market is open and there is no position in the underlying asset\n",
        "        elif self.is_market_open(self._asset.symbol) and not self.portfolio.invested:\n",
        "            # Select an out of the money put and short it\n",
        "            ticker = self._get_contracts(OptionRight.PUT, self._asset.price * (1-self._otm_thresh))\n",
        "            self.set_holdings(ticker, -0.2)\n",
        "\n",
        "\n",
        "    def _get_contracts(self, right, target_price):\n",
        "        # Returns options contracts based on type, strike price and expiration date\n",
        "        contract_tickers = self.option_chain_provider.get_option_contract_list(self._asset.symbol, self.time)\n",
        "        expiry_date = min([x.id.date for x in contract_tickers if x.id.date.date() > self.time.date() + timedelta(60)])\n",
        "        filtered_tickers = [\n",
        "            x for x in contract_tickers\n",
        "            if (x.id.option_right == right and x.id.date == expiry_date and (x.id.strike_price <= target_price if right == OptionRight.PUT else x.id.strike_price >= target_price))\n",
        "        ]\n",
        "        ticker = sorted(filtered_tickers, key=lambda x: x.id.strike_price, reverse=right == OptionRight.PUT)[0]\n",
        "        self.add_option_contract(ticker)\n",
        "        return ticker\n",
        "\n"
      ]
    }
  ]
}