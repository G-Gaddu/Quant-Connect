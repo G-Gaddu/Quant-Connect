{
  "nbformat": 4,
  "nbformat_minor": 0,
  "metadata": {
    "colab": {
      "provenance": [],
      "authorship_tag": "ABX9TyNM6BqGQ8WLIr5dgCoxz7I0"
    },
    "kernelspec": {
      "name": "python3",
      "display_name": "Python 3"
    },
    "language_info": {
      "name": "python"
    }
  },
  "cells": [
    {
      "cell_type": "code",
      "execution_count": null,
      "metadata": {
        "id": "GdKHaI5vKt8v"
      },
      "outputs": [],
      "source": [
        "# Import the required packages\n",
        "from AlgorithmImports import *\n",
        "import random\n",
        "from statsmodels.tsa.regime_switching.markov_regression import MarkovRegression\n",
        "\n",
        "class BuffettFearAndGreedAlgorithm(QCAlgorithm):\n",
        "    # Initialise the class\n",
        "    def initialize(self) -> None:\n",
        "        # Set the start and end dates\n",
        "        self.set_start_date(2015, 8, 18)\n",
        "        self.set_end_date(2025, 8, 18)\n",
        "        # Allocate the cash used for the strategy\n",
        "        self.set_cash(200000)\n",
        "        # Set the random seed\n",
        "        random.seed(self.get_parameter('seed', 30))\n",
        "        # Assign a flag on whether the regime filter should be used or not (1 is True, 0 is False)\n",
        "        self._filter = bool(self.get_parameter('filter', 1))\n",
        "        # Then determine the probability that a trade is executed in each minute\n",
        "        self._prob_of_trade_min = 0.005\n",
        "        # Then add the fear and greed index data\n",
        "        self._fr_gd_index = self.add_data(FearGreedIndex, 'FG')\n",
        "        self._fr_gd_index.history = self.history(self._fr_gd_index.symbol, datetime(2015, 7, 1), self.time).loc[self._fr_gd_index.symbol].qcindex\n",
        "        self._fr_gd_index.regime = None\n",
        "        # Finally add the S&P 500 as the investment universe and chose the fee model\n",
        "        self._sp500 = self.add_equity('SPY')\n",
        "        self._sp500.set_fee_model(InteractiveBrokersFeeModel())\n",
        "        # Then liquidate the positions at the end of each day's trading\n",
        "        self.schedule.on(self.date_rules.every_day(self._sp500.symbol), self.time_rules.before_market_close(self._sp500.symbol, 0), self.liquidate)\n",
        "\n",
        "    def on_data(self, data: Slice) -> None:\n",
        "        if self._sp500.symbol in data and self._sp500.exchange.hours.is_open(self.time + timedelta(minutes=1), False):\n",
        "            # First determine if a trade should be executed\n",
        "            execute_trade = random.random() < self._prob_of_trade_min\n",
        "            if not execute_trade:\n",
        "                return\n",
        "            # If the filter is on, then take a long position during the fear regime\n",
        "            if self._filter and self._fr_gd_index.regime == 1:\n",
        "                return\n",
        "            self.market_order(self._sp500.symbol, 200 if not self.portfolio.invested else -200)\n",
        "        # Then wait until the Fear and Greed Index has new data\n",
        "        if self._fr_gd_index.symbol not in data:\n",
        "            return\n",
        "        self._fr_gd_index.history.loc[self.time] = self._fr_gd_index.close\n",
        "        # Then fit the Markov model and determine if there has been a regime change\n",
        "        regime = pd.Series(MarkovRegression(self._fr_gd_index.history, k_regimes=2).fit().smoothed_marginal_probabilities.values.argmax(axis=1), index=self._fr_gd_index.history.index)\n",
        "\n",
        "        # Finally, we check to ensure that a regime of 0 is a fearful one and one of 1 is a greedy one\n",
        "        self.plot('Regime mean', 'Fear', self._fr_gd_index.history[regime[regime == 0].index].mean())\n",
        "        self.plot('Regime mean', 'Greed', self._fr_gd_index.history[regime[regime == 1].index].mean())\n",
        "        # Finish by saving the current regime and plotting it\n",
        "        self._fr_gd_index.regime = regime.iloc[-1]\n",
        "        self.plot('Regime', 'Current', self._fr_gd_index.regime)"
      ]
    }
  ]
}